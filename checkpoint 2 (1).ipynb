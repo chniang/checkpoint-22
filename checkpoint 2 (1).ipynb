{
 "cells": [
  {
   "cell_type": "code",
   "execution_count": null,
   "id": "bbcc9236-ec84-4dd2-88bc-9b17a8cf2a1c",
   "metadata": {},
   "outputs": [],
   "source": [
    "import random\n",
    "\n",
    "def jouer():\n",
    "    print(\"Bienvenue dans le jeu Devinez le nombre ! Je pense à un nombre entre 1 et 100, pouvez-vous le deviner ?\")\n",
    "    nombre_aleatoire = random.randint(1, 100)\n",
    "    supposition = 0\n",
    "    while supposition != nombre_aleatoire:\n",
    "        supposition = int(input(\"Entrez votre supposition entre 1 et 100: \"))\n",
    "        if supposition < nombre_aleatoire:\n",
    "            print(\"Votre supposition est trop basse, essayez un nombre plus élevé.\")\n",
    "        elif supposition > nombre_aleatoire:\n",
    "            print(\"Votre supposition est trop élevée, essayez un nombre plus bas.\")\n",
    "        else:\n",
    "            print(\"Félicitations ! Vous avez trouvé le nombre.\")\n",
    "\n",
    "choix = input(\"Appuyez sur '1' pour rejouer ou sur une autre touche pour quitter: \")\n",
    "if choix == '1':\n",
    "    jouer()\n",
    "else:\n",
    "     print(\"Merci d'avoir joué ! À bientôt.\")\n",
    "           \n",
    "\n",
    "\n"
   ]
  }
 ],
 "metadata": {
  "kernelspec": {
   "display_name": "Python 3 (ipykernel)",
   "language": "python",
   "name": "python3"
  },
  "language_info": {
   "codemirror_mode": {
    "name": "ipython",
    "version": 3
   },
   "file_extension": ".py",
   "mimetype": "text/x-python",
   "name": "python",
   "nbconvert_exporter": "python",
   "pygments_lexer": "ipython3",
   "version": "3.12.4"
  }
 },
 "nbformat": 4,
 "nbformat_minor": 5
}
